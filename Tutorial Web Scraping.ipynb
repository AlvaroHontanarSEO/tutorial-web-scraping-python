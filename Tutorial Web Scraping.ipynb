{
 "cells": [
  {
   "cell_type": "code",
   "execution_count": 14,
   "id": "ea02f957",
   "metadata": {},
   "outputs": [],
   "source": [
    "#Paso 1: Instalar las librerías\n",
    "\n",
    "pip install beautifulsoup4 \n",
    "pip install requests\n",
    "pip install pandas"
   ]
  },
  {
   "cell_type": "code",
   "execution_count": 2,
   "id": "5817cd02",
   "metadata": {},
   "outputs": [],
   "source": [
    "#Paso 2: Cargar librerías con alias\n",
    "\n",
    "from bs4 import BeautifulSoup as bs\n",
    "import requests as rq\n",
    "import pandas as pd"
   ]
  },
  {
   "cell_type": "code",
   "execution_count": 3,
   "id": "1eb00acf",
   "metadata": {},
   "outputs": [],
   "source": [
    "#Paso 3: Lanzar una peticion a la URL\n",
    "\n",
    "response = rq.get('https://www.lego.com/es-es/themes/adults-welcome/botanical-collection/artificial-flowers')"
   ]
  },
  {
   "cell_type": "code",
   "execution_count": 4,
   "id": "31f8f0ef",
   "metadata": {},
   "outputs": [
    {
     "name": "stdout",
     "output_type": "stream",
     "text": [
      "<Response [200]>\n"
     ]
    }
   ],
   "source": [
    "#Comprobar que está OK\n",
    "\n",
    "print(response)"
   ]
  },
  {
   "cell_type": "code",
   "execution_count": 5,
   "id": "43bca952",
   "metadata": {},
   "outputs": [],
   "source": [
    "#Paso 4: Extraemos el código HTML de la página en la variable soup\n",
    "\n",
    "soup = bs(response.text, 'html.parser')"
   ]
  },
  {
   "cell_type": "code",
   "execution_count": 6,
   "id": "d088bd6c",
   "metadata": {},
   "outputs": [],
   "source": [
    "#Paso 5: Buscar en el código todas las etiquetas que tienen el atributo que identifica inequivocamente a los elementos\n",
    "\n",
    "buscar_productos = soup.find_all('a', attrs={'data-test': 'product-leaf-title'})"
   ]
  },
  {
   "cell_type": "code",
   "execution_count": 7,
   "id": "f3906371",
   "metadata": {},
   "outputs": [
    {
     "name": "stdout",
     "output_type": "stream",
     "text": [
      "[<a class=\"ds-body-md-medium ProductLeaf_title__1UhfJ\" data-test=\"product-leaf-title\" href=\"/es-es/product/wildflower-bouquet-10313\"><span class=\"markup\" data-test=\"markup\">Ramo de Flores Silvestres</span></a>, <a class=\"ds-body-md-medium ProductLeaf_title__1UhfJ\" data-test=\"product-leaf-title\" href=\"/es-es/product/tbd-icon-lifestyle-10311\"><span class=\"markup\" data-test=\"markup\">Orquídeas</span></a>, <a class=\"ds-body-md-medium ProductLeaf_title__1UhfJ\" data-test=\"product-leaf-title\" href=\"/es-es/product/tiny-plants-10329\"><span class=\"markup\" data-test=\"markup\">Plantas Diminutas</span></a>, <a class=\"ds-body-md-medium ProductLeaf_title__1UhfJ\" data-test=\"product-leaf-title\" href=\"/es-es/product/bonsai-tree-10281\"><span class=\"markup\" data-test=\"markup\">Bonsái</span></a>, <a class=\"ds-body-md-medium ProductLeaf_title__1UhfJ\" data-test=\"product-leaf-title\" href=\"/es-es/product/bouquet-of-roses-10328\"><span class=\"markup\" data-test=\"markup\">Ramo de Rosas</span></a>, <a class=\"ds-body-md-medium ProductLeaf_title__1UhfJ\" data-test=\"product-leaf-title\" href=\"/es-es/product/cherry-blossoms-40725\"><span class=\"markup\" data-test=\"markup\">Flores de Cerezo</span></a>, <a class=\"ds-body-md-medium ProductLeaf_title__1UhfJ\" data-test=\"product-leaf-title\" href=\"/es-es/product/sunflowers-40524\"><span class=\"markup\" data-test=\"markup\">Girasoles</span></a>, <a class=\"ds-body-md-medium ProductLeaf_title__1UhfJ\" data-test=\"product-leaf-title\" href=\"/es-es/product/roses-40460\"><span class=\"markup\" data-test=\"markup\">Rosas</span></a>, <a class=\"ds-body-md-medium ProductLeaf_title__1UhfJ\" data-test=\"product-leaf-title\" href=\"/es-es/product/flower-bouquet-10280\"><span class=\"markup\" data-test=\"markup\">Ramo de Flores</span></a>, <a class=\"ds-body-md-medium ProductLeaf_title__1UhfJ\" data-test=\"product-leaf-title\" href=\"/es-es/product/lotus-flowers-40647\"><span class=\"markup\" data-test=\"markup\">Flores de Loto</span></a>, <a class=\"ds-body-md-medium ProductLeaf_title__1UhfJ\" data-test=\"product-leaf-title\" href=\"/es-es/product/daffodils-40747\"><span class=\"markup\" data-test=\"markup\">Narcisos</span></a>, <a class=\"ds-body-md-medium ProductLeaf_title__1UhfJ\" data-test=\"product-leaf-title\" href=\"/es-es/product/tbd-icon-mdp1-2022-10309\"><span class=\"markup\" data-test=\"markup\">Suculentas</span></a>, <a class=\"ds-body-md-medium ProductLeaf_title__1UhfJ\" data-test=\"product-leaf-title\" href=\"/es-es/product/dried-flower-centerpiece-10314\"><span class=\"markup\" data-test=\"markup\">Centro de Flores Secas</span></a>]\n"
     ]
    }
   ],
   "source": [
    "print(buscar_productos)"
   ]
  },
  {
   "cell_type": "code",
   "execution_count": 8,
   "id": "75b796dd",
   "metadata": {},
   "outputs": [
    {
     "name": "stdout",
     "output_type": "stream",
     "text": [
      "['Ramo de Flores Silvestres', 'Orquídeas', 'Plantas Diminutas', 'Bonsái', 'Ramo de Rosas', 'Flores de Cerezo', 'Girasoles', 'Rosas', 'Ramo de Flores', 'Flores de Loto', 'Narcisos', 'Suculentas', 'Centro de Flores Secas']\n"
     ]
    }
   ],
   "source": [
    "productos = []\n",
    "for i in buscar_productos:\n",
    "     productos.append(i.get_text())\n",
    "        \n",
    "print(productos)"
   ]
  },
  {
   "cell_type": "code",
   "execution_count": 9,
   "id": "40d538de",
   "metadata": {},
   "outputs": [
    {
     "name": "stdout",
     "output_type": "stream",
     "text": [
      "['59,99\\xa0€', '49,99\\xa0€', '49,99\\xa0€', '49,99\\xa0€', '59,99\\xa0€', '14,99\\xa0€', '14,99\\xa0€', '14,99\\xa0€', '59,99\\xa0€', '14,99\\xa0€', '14,99\\xa0€', '49,99\\xa0€', '49,99\\xa0€']\n"
     ]
    }
   ],
   "source": [
    "#Paso 6: Repetir el mismo proceso con los precios. En este caso en vez de atributo usamos la clase.\n",
    "\n",
    "buscar_precios = soup.find_all('span', class_=\"price-sm-bold\")\n",
    "  \n",
    "precios = []\n",
    "for i in buscar_precios:\n",
    "     precios.append(i.get_text())\n",
    "        \n",
    "print(precios)"
   ]
  },
  {
   "cell_type": "code",
   "execution_count": 10,
   "id": "15a7310c",
   "metadata": {},
   "outputs": [
    {
     "name": "stdout",
     "output_type": "stream",
     "text": [
      "['59,99€', '49,99€', '49,99€', '49,99€', '59,99€', '14,99€', '14,99€', '14,99€', '59,99€', '14,99€', '14,99€', '49,99€', '49,99€']\n"
     ]
    }
   ],
   "source": [
    "precios_limpios = []\n",
    "\n",
    "# Limpiar los caracteres no deseados\n",
    "for i in precios:\n",
    "    precios_limpios.append(i.replace('\\xa0', ''))\n",
    "\n",
    "# Mostrar los precios limpios\n",
    "print(precios_limpios)"
   ]
  },
  {
   "cell_type": "code",
   "execution_count": 11,
   "id": "8f4049a1",
   "metadata": {},
   "outputs": [],
   "source": [
    "#Paso 7: creación del dataframe\n",
    "\n",
    "#Primero un diccionario\n",
    "data = {\n",
    "    \"Productos\": productos,\n",
    "    \"Precios\": precios_limpios\n",
    "}\n",
    "\n",
    "#Creación de un dataframe\n",
    "df = pd.DataFrame(data)\n",
    "\n",
    "# Exportar el DataFrame a un archivo Excel\n",
    "df.to_excel('lego_productos.xlsx', index=False)"
   ]
  },
  {
   "cell_type": "code",
   "execution_count": null,
   "id": "d6c47a71",
   "metadata": {},
   "outputs": [],
   "source": []
  }
 ],
 "metadata": {
  "kernelspec": {
   "display_name": "Python 3 (ipykernel)",
   "language": "python",
   "name": "python3"
  },
  "language_info": {
   "codemirror_mode": {
    "name": "ipython",
    "version": 3
   },
   "file_extension": ".py",
   "mimetype": "text/x-python",
   "name": "python",
   "nbconvert_exporter": "python",
   "pygments_lexer": "ipython3",
   "version": "3.9.7"
  }
 },
 "nbformat": 4,
 "nbformat_minor": 5
}
